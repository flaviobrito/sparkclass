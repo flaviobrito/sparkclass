{
  "nbformat": 4,
  "nbformat_minor": 0,
  "metadata": {
    "colab": {
      "name": "Spark001.ipynb",
      "version": "0.3.2",
      "provenance": []
    },
    "kernelspec": {
      "name": "python3",
      "display_name": "Python 3"
    }
  },
  "cells": [
    {
      "metadata": {
        "id": "QgFEOkmgt-Q2",
        "colab_type": "code",
        "colab": {
          "base_uri": "https://localhost:8080/",
          "height": 52
        },
        "outputId": "c375513c-5d22-427a-a48a-1f51aff9a612"
      },
      "cell_type": "code",
      "source": [
        "\n",
        "\n",
        "!pip install pyspark"
      ],
      "execution_count": 17,
      "outputs": [
        {
          "output_type": "stream",
          "text": [
            "Requirement already satisfied: pyspark in /usr/local/lib/python3.6/dist-packages (2.4.1)\n",
            "Requirement already satisfied: py4j==0.10.7 in /usr/local/lib/python3.6/dist-packages (from pyspark) (0.10.7)\n"
          ],
          "name": "stdout"
        }
      ]
    },
    {
      "metadata": {
        "id": "tCUZRWipwtgY",
        "colab_type": "code",
        "colab": {}
      },
      "cell_type": "code",
      "source": [
        "from pyspark.sql import SparkSession\n",
        "\n",
        "spark = SparkSession \\\n",
        "    .builder \\\n",
        "    .appName(\"Python Spark Dtafrane basic example\") \\\n",
        "    .config(\"spark.some.config.option\", \"some-value\") \\\n",
        "    .getOrCreate()\n"
      ],
      "execution_count": 0,
      "outputs": []
    },
    {
      "metadata": {
        "id": "o2n-5P0zxaGr",
        "colab_type": "code",
        "colab": {}
      },
      "cell_type": "code",
      "source": [
        "import pandas as pd\n",
        "url = \"https://raw.githubusercontent.com/flaviobrito/projects_datasets/master/Data_A.csv\"\n",
        "df = spark.createDataFrame(pd.read_csv(url), )"
      ],
      "execution_count": 0,
      "outputs": []
    },
    {
      "metadata": {
        "id": "NT55SsKwFh8O",
        "colab_type": "code",
        "colab": {
          "base_uri": "https://localhost:8080/",
          "height": 34
        },
        "outputId": "bae85058-7154-46b4-895a-9c3dee56050c"
      },
      "cell_type": "code",
      "source": [
        "df.columns"
      ],
      "execution_count": 128,
      "outputs": [
        {
          "output_type": "execute_result",
          "data": {
            "text/plain": [
              "['NUMFUNC', 'NUMVINC', 'SALARY']"
            ]
          },
          "metadata": {
            "tags": []
          },
          "execution_count": 128
        }
      ]
    },
    {
      "metadata": {
        "id": "2sbucoi25FJ6",
        "colab_type": "code",
        "colab": {
          "base_uri": "https://localhost:8080/",
          "height": 34
        },
        "outputId": "5f59ad2e-4924-492d-c27d-8849b1632fad"
      },
      "cell_type": "code",
      "source": [
        "df.dtypes"
      ],
      "execution_count": 101,
      "outputs": [
        {
          "output_type": "execute_result",
          "data": {
            "text/plain": [
              "[('NUMFUNC', 'bigint'), ('NUMVINC', 'bigint'), ('SALARY', 'double')]"
            ]
          },
          "metadata": {
            "tags": []
          },
          "execution_count": 101
        }
      ]
    },
    {
      "metadata": {
        "id": "qMzt_xT7FxHh",
        "colab_type": "code",
        "colab": {
          "base_uri": "https://localhost:8080/",
          "height": 34
        },
        "outputId": "0ec273fc-d614-43c2-8a8a-36f754d368b2"
      },
      "cell_type": "code",
      "source": [
        "type(df['SALARY'])\n"
      ],
      "execution_count": 129,
      "outputs": [
        {
          "output_type": "execute_result",
          "data": {
            "text/plain": [
              "pyspark.sql.column.Column"
            ]
          },
          "metadata": {
            "tags": []
          },
          "execution_count": 129
        }
      ]
    },
    {
      "metadata": {
        "id": "F5RjmcRSGBPH",
        "colab_type": "code",
        "colab": {}
      },
      "cell_type": "code",
      "source": [
        ""
      ],
      "execution_count": 0,
      "outputs": []
    },
    {
      "metadata": {
        "id": "KE08O5df5fJa",
        "colab_type": "code",
        "colab": {
          "base_uri": "https://localhost:8080/",
          "height": 34
        },
        "outputId": "012bfe15-4023-4307-c444-50d71b517f54"
      },
      "cell_type": "code",
      "source": [
        "df.head()"
      ],
      "execution_count": 102,
      "outputs": [
        {
          "output_type": "execute_result",
          "data": {
            "text/plain": [
              "Row(NUMFUNC=102929, NUMVINC=1, SALARY=1000.0)"
            ]
          },
          "metadata": {
            "tags": []
          },
          "execution_count": 102
        }
      ]
    },
    {
      "metadata": {
        "id": "RDI3xAnI511G",
        "colab_type": "code",
        "colab": {
          "base_uri": "https://localhost:8080/",
          "height": 156
        },
        "outputId": "1d5877b4-f568-4bcd-823e-234ef19e2355"
      },
      "cell_type": "code",
      "source": [
        "df.show(n=2)"
      ],
      "execution_count": 103,
      "outputs": [
        {
          "output_type": "stream",
          "text": [
            "+-------+-------+------+\n",
            "|NUMFUNC|NUMVINC|SALARY|\n",
            "+-------+-------+------+\n",
            "| 102929|      1|1000.0|\n",
            "| 109999|      3|3000.0|\n",
            "+-------+-------+------+\n",
            "only showing top 2 rows\n",
            "\n"
          ],
          "name": "stdout"
        }
      ]
    },
    {
      "metadata": {
        "id": "LkSNmSX66LkQ",
        "colab_type": "code",
        "colab": {
          "base_uri": "https://localhost:8080/",
          "height": 173
        },
        "outputId": "ec19f5b4-8ff2-4e45-f9db-4228fb6c0bc2"
      },
      "cell_type": "code",
      "source": [
        "df.show()"
      ],
      "execution_count": 104,
      "outputs": [
        {
          "output_type": "stream",
          "text": [
            "+-------+-------+------+\n",
            "|NUMFUNC|NUMVINC|SALARY|\n",
            "+-------+-------+------+\n",
            "| 102929|      1|1000.0|\n",
            "| 109999|      3|3000.0|\n",
            "| 102929|      2|   NaN|\n",
            "| 119836|      1| 500.0|\n",
            "+-------+-------+------+\n",
            "\n"
          ],
          "name": "stdout"
        }
      ]
    },
    {
      "metadata": {
        "id": "_d7hwP4cAUxR",
        "colab_type": "code",
        "colab": {
          "base_uri": "https://localhost:8080/",
          "height": 34
        },
        "outputId": "deac9a45-f8c5-4516-a260-09dca850ee7a"
      },
      "cell_type": "code",
      "source": [
        "df"
      ],
      "execution_count": 106,
      "outputs": [
        {
          "output_type": "execute_result",
          "data": {
            "text/plain": [
              "DataFrame[NUMFUNC: bigint, NUMVINC: bigint, SALARY: double]"
            ]
          },
          "metadata": {
            "tags": []
          },
          "execution_count": 106
        }
      ]
    },
    {
      "metadata": {
        "id": "CwJs2Rb09kfO",
        "colab_type": "code",
        "colab": {
          "base_uri": "https://localhost:8080/",
          "height": 34
        },
        "outputId": "20516f12-d67d-4463-b426-2ff372f885db"
      },
      "cell_type": "code",
      "source": [
        "df.describe"
      ],
      "execution_count": 107,
      "outputs": [
        {
          "output_type": "execute_result",
          "data": {
            "text/plain": [
              "<bound method DataFrame.describe of DataFrame[NUMFUNC: bigint, NUMVINC: bigint, SALARY: double]>"
            ]
          },
          "metadata": {
            "tags": []
          },
          "execution_count": 107
        }
      ]
    },
    {
      "metadata": {
        "id": "KCqmeZGmAYPt",
        "colab_type": "code",
        "colab": {
          "base_uri": "https://localhost:8080/",
          "height": 104
        },
        "outputId": "4eb9b8bb-2d4e-46d7-f366-71a69e5a0901"
      },
      "cell_type": "code",
      "source": [
        "df.printSchema()"
      ],
      "execution_count": 108,
      "outputs": [
        {
          "output_type": "stream",
          "text": [
            "root\n",
            " |-- NUMFUNC: long (nullable = true)\n",
            " |-- NUMVINC: long (nullable = true)\n",
            " |-- SALARY: double (nullable = true)\n",
            "\n"
          ],
          "name": "stdout"
        }
      ]
    },
    {
      "metadata": {
        "id": "Sbrc1Ncn6QPv",
        "colab_type": "code",
        "colab": {
          "base_uri": "https://localhost:8080/",
          "height": 173
        },
        "outputId": "b7fa6c42-c4a2-444b-be6c-dcba9f7ae42d"
      },
      "cell_type": "code",
      "source": [
        "df.select('SALARY').show()\n"
      ],
      "execution_count": 120,
      "outputs": [
        {
          "output_type": "stream",
          "text": [
            "+------+\n",
            "|SALARY|\n",
            "+------+\n",
            "|1000.0|\n",
            "|3000.0|\n",
            "|   NaN|\n",
            "| 500.0|\n",
            "+------+\n",
            "\n"
          ],
          "name": "stdout"
        }
      ]
    },
    {
      "metadata": {
        "id": "7L7TNugtEmah",
        "colab_type": "code",
        "colab": {
          "base_uri": "https://localhost:8080/",
          "height": 191
        },
        "outputId": "1f320d07-77bc-4b6c-d156-3f107f671f6b"
      },
      "cell_type": "code",
      "source": [
        "df.describe('SALARY').show()"
      ],
      "execution_count": 130,
      "outputs": [
        {
          "output_type": "stream",
          "text": [
            "+-------+------+\n",
            "|summary|SALARY|\n",
            "+-------+------+\n",
            "|  count|     4|\n",
            "|   mean|   NaN|\n",
            "| stddev|   NaN|\n",
            "|    min| 500.0|\n",
            "|    max|   NaN|\n",
            "+-------+------+\n",
            "\n"
          ],
          "name": "stdout"
        }
      ]
    },
    {
      "metadata": {
        "id": "6vtzvMpBGDN4",
        "colab_type": "code",
        "colab": {
          "base_uri": "https://localhost:8080/",
          "height": 173
        },
        "outputId": "c233444e-30f1-4da3-dd5a-3191021e5aba"
      },
      "cell_type": "code",
      "source": [
        "df.select(['NUMFUNC', 'SALARY']).show()"
      ],
      "execution_count": 131,
      "outputs": [
        {
          "output_type": "stream",
          "text": [
            "+-------+------+\n",
            "|NUMFUNC|SALARY|\n",
            "+-------+------+\n",
            "| 102929|1000.0|\n",
            "| 109999|3000.0|\n",
            "| 102929|   NaN|\n",
            "| 119836| 500.0|\n",
            "+-------+------+\n",
            "\n"
          ],
          "name": "stdout"
        }
      ]
    },
    {
      "metadata": {
        "id": "rWlraJWRGK5Y",
        "colab_type": "code",
        "colab": {
          "base_uri": "https://localhost:8080/",
          "height": 121
        },
        "outputId": "76576a09-f4b8-48ad-a0f5-52b508112fd2"
      },
      "cell_type": "code",
      "source": [
        "df.filter(df.SALARY == 3000).show()"
      ],
      "execution_count": 132,
      "outputs": [
        {
          "output_type": "stream",
          "text": [
            "+-------+-------+------+\n",
            "|NUMFUNC|NUMVINC|SALARY|\n",
            "+-------+-------+------+\n",
            "| 109999|      3|3000.0|\n",
            "+-------+-------+------+\n",
            "\n"
          ],
          "name": "stdout"
        }
      ]
    },
    {
      "metadata": {
        "id": "Z3xlLzRBGTHh",
        "colab_type": "code",
        "colab": {
          "base_uri": "https://localhost:8080/",
          "height": 173
        },
        "outputId": "74cf0646-1df7-4c43-92dd-f3734c103d1c"
      },
      "cell_type": "code",
      "source": [
        "# Register the DataFrame as a SQL temporary view\n",
        "df.createOrReplaceTempView(\"payroll\")\n",
        "sql_results = spark.sql(\"SELECT * FROM payroll\")\n",
        "sql_results.show()\n"
      ],
      "execution_count": 133,
      "outputs": [
        {
          "output_type": "stream",
          "text": [
            "+-------+-------+------+\n",
            "|NUMFUNC|NUMVINC|SALARY|\n",
            "+-------+-------+------+\n",
            "| 102929|      1|1000.0|\n",
            "| 109999|      3|3000.0|\n",
            "| 102929|      2|   NaN|\n",
            "| 119836|      1| 500.0|\n",
            "+-------+-------+------+\n",
            "\n"
          ],
          "name": "stdout"
        }
      ]
    },
    {
      "metadata": {
        "id": "Y30eqcfWGccI",
        "colab_type": "text"
      },
      "cell_type": "markdown",
      "source": [
        "# Rename Columns"
      ]
    },
    {
      "metadata": {
        "id": "z8U-5Wc_GhXV",
        "colab_type": "code",
        "colab": {
          "base_uri": "https://localhost:8080/",
          "height": 173
        },
        "outputId": "d396cfa6-2de9-4909-c377-caf0b8c75fb8"
      },
      "cell_type": "code",
      "source": [
        "#Rename column\n",
        "df.withColumnRenamed('SALARY', 'salary').show()"
      ],
      "execution_count": 143,
      "outputs": [
        {
          "output_type": "stream",
          "text": [
            "+-------+-------+------+\n",
            "|NUMFUNC|NUMVINC|salary|\n",
            "+-------+-------+------+\n",
            "| 102929|      1|1000.0|\n",
            "| 109999|      3|3000.0|\n",
            "| 102929|      2|   NaN|\n",
            "| 119836|      1| 500.0|\n",
            "+-------+-------+------+\n",
            "\n"
          ],
          "name": "stdout"
        }
      ]
    },
    {
      "metadata": {
        "id": "-r-JhX9pGzDe",
        "colab_type": "text"
      },
      "cell_type": "markdown",
      "source": [
        "# Operations"
      ]
    },
    {
      "metadata": {
        "id": "sIU69HUKG3HS",
        "colab_type": "code",
        "colab": {
          "base_uri": "https://localhost:8080/",
          "height": 167
        },
        "outputId": "e7a08838-95ea-412b-ec63-2f5c71f6cc36"
      },
      "cell_type": "code",
      "source": [
        "# Operation/Function and Column Alias\n",
        "df.withColumn('bonus',df['salary']*1.2).show()"
      ],
      "execution_count": 152,
      "outputs": [
        {
          "output_type": "error",
          "ename": "AttributeError",
          "evalue": "ignored",
          "traceback": [
            "\u001b[0;31m---------------------------------------------------------------------------\u001b[0m",
            "\u001b[0;31mAttributeError\u001b[0m                            Traceback (most recent call last)",
            "\u001b[0;32m<ipython-input-152-806e018c58d4>\u001b[0m in \u001b[0;36m<module>\u001b[0;34m()\u001b[0m\n\u001b[0;32m----> 1\u001b[0;31m \u001b[0mdf\u001b[0m\u001b[0;34m.\u001b[0m\u001b[0mwithColumn\u001b[0m\u001b[0;34m(\u001b[0m\u001b[0;34m'bonus'\u001b[0m\u001b[0;34m,\u001b[0m\u001b[0mdf\u001b[0m\u001b[0;34m[\u001b[0m\u001b[0;34m'salary'\u001b[0m\u001b[0;34m]\u001b[0m\u001b[0;34m*\u001b[0m\u001b[0;36m1.2\u001b[0m\u001b[0;34m)\u001b[0m\u001b[0;34m.\u001b[0m\u001b[0mshow\u001b[0m\u001b[0;34m(\u001b[0m\u001b[0;34m)\u001b[0m\u001b[0;34m\u001b[0m\u001b[0;34m\u001b[0m\u001b[0m\n\u001b[0m",
            "\u001b[0;31mAttributeError\u001b[0m: 'NoneType' object has no attribute 'withColumn'"
          ]
        }
      ]
    },
    {
      "metadata": {
        "id": "BKLRfSJmHcW2",
        "colab_type": "code",
        "colab": {
          "base_uri": "https://localhost:8080/",
          "height": 173
        },
        "outputId": "2149d903-dff6-4832-de09-84658f4ef873"
      },
      "cell_type": "code",
      "source": [
        "df.show()"
      ],
      "execution_count": 159,
      "outputs": [
        {
          "output_type": "stream",
          "text": [
            "+-------+-------+------+\n",
            "|NUMFUNC|NUMVINC|SALARY|\n",
            "+-------+-------+------+\n",
            "| 102929|      1|1000.0|\n",
            "| 109999|      3|3000.0|\n",
            "| 102929|      2|   NaN|\n",
            "| 119836|      1| 500.0|\n",
            "+-------+-------+------+\n",
            "\n"
          ],
          "name": "stdout"
        }
      ]
    },
    {
      "metadata": {
        "id": "QMHkTd3KHiTp",
        "colab_type": "code",
        "colab": {
          "base_uri": "https://localhost:8080/",
          "height": 173
        },
        "outputId": "f951cd3c-b1f7-41f9-bb4e-a7352f566627"
      },
      "cell_type": "code",
      "source": [
        "df2 = df.withColumn('bonus', df['salary']*1.2).show()"
      ],
      "execution_count": 164,
      "outputs": [
        {
          "output_type": "stream",
          "text": [
            "+-------+-------+------+------+\n",
            "|NUMFUNC|NUMVINC|SALARY| bonus|\n",
            "+-------+-------+------+------+\n",
            "| 102929|      1|1000.0|1200.0|\n",
            "| 109999|      3|3000.0|3600.0|\n",
            "| 102929|      2|   NaN|   NaN|\n",
            "| 119836|      1| 500.0| 600.0|\n",
            "+-------+-------+------+------+\n",
            "\n"
          ],
          "name": "stdout"
        }
      ]
    },
    {
      "metadata": {
        "id": "6vNZ8nf-IAkJ",
        "colab_type": "code",
        "colab": {
          "base_uri": "https://localhost:8080/",
          "height": 34
        },
        "outputId": "9183016a-fa14-452e-fa91-d0fd635c2048"
      },
      "cell_type": "code",
      "source": [
        "type(df)"
      ],
      "execution_count": 166,
      "outputs": [
        {
          "output_type": "execute_result",
          "data": {
            "text/plain": [
              "pyspark.sql.dataframe.DataFrame"
            ]
          },
          "metadata": {
            "tags": []
          },
          "execution_count": 166
        }
      ]
    }
  ]
}