{
  "nbformat": 4,
  "nbformat_minor": 0,
  "metadata": {
    "colab": {
      "name": "Spark001.ipynb",
      "version": "0.3.2",
      "provenance": []
    },
    "kernelspec": {
      "name": "python3",
      "display_name": "Python 3"
    }
  },
  "cells": [
    {
      "metadata": {
        "id": "QgFEOkmgt-Q2",
        "colab_type": "code",
        "colab": {
          "base_uri": "https://localhost:8080/",
          "height": 52
        },
        "outputId": "5e7a0686-c50a-47e1-ce55-796539df95fa"
      },
      "cell_type": "code",
      "source": [
        "\n",
        "\n",
        "!pip install pyspark"
      ],
      "execution_count": 167,
      "outputs": [
        {
          "output_type": "stream",
          "text": [
            "Requirement already satisfied: pyspark in /usr/local/lib/python3.6/dist-packages (2.4.1)\n",
            "Requirement already satisfied: py4j==0.10.7 in /usr/local/lib/python3.6/dist-packages (from pyspark) (0.10.7)\n"
          ],
          "name": "stdout"
        }
      ]
    },
    {
      "metadata": {
        "id": "tCUZRWipwtgY",
        "colab_type": "code",
        "colab": {}
      },
      "cell_type": "code",
      "source": [
        "from pyspark.sql import SparkSession\n",
        "\n",
        "spark = SparkSession \\\n",
        "    .builder \\\n",
        "    .appName(\"Python Spark Dtafrane basic example\") \\\n",
        "    .config(\"spark.some.config.option\", \"some-value\") \\\n",
        "    .getOrCreate()\n"
      ],
      "execution_count": 0,
      "outputs": []
    },
    {
      "metadata": {
        "id": "o2n-5P0zxaGr",
        "colab_type": "code",
        "colab": {}
      },
      "cell_type": "code",
      "source": [
        "import pandas as pd\n",
        "url = \"https://raw.githubusercontent.com/flaviobrito/projects_datasets/master/Data_A.csv\"\n",
        "df = spark.createDataFrame(pd.read_csv(url), )"
      ],
      "execution_count": 0,
      "outputs": []
    },
    {
      "metadata": {
        "id": "NT55SsKwFh8O",
        "colab_type": "code",
        "colab": {
          "base_uri": "https://localhost:8080/",
          "height": 34
        },
        "outputId": "73a34784-8da5-4007-95d5-070f2822b462"
      },
      "cell_type": "code",
      "source": [
        "df.columns"
      ],
      "execution_count": 170,
      "outputs": [
        {
          "output_type": "execute_result",
          "data": {
            "text/plain": [
              "['NUMFUNC', 'NUMVINC', 'SALARY']"
            ]
          },
          "metadata": {
            "tags": []
          },
          "execution_count": 170
        }
      ]
    },
    {
      "metadata": {
        "id": "2sbucoi25FJ6",
        "colab_type": "code",
        "colab": {
          "base_uri": "https://localhost:8080/",
          "height": 34
        },
        "outputId": "3fb55175-4242-49a4-fb42-408ce5936ddc"
      },
      "cell_type": "code",
      "source": [
        "df.dtypes"
      ],
      "execution_count": 171,
      "outputs": [
        {
          "output_type": "execute_result",
          "data": {
            "text/plain": [
              "[('NUMFUNC', 'bigint'), ('NUMVINC', 'bigint'), ('SALARY', 'double')]"
            ]
          },
          "metadata": {
            "tags": []
          },
          "execution_count": 171
        }
      ]
    },
    {
      "metadata": {
        "id": "qMzt_xT7FxHh",
        "colab_type": "code",
        "colab": {
          "base_uri": "https://localhost:8080/",
          "height": 34
        },
        "outputId": "959b9ea8-d03c-43c1-ff09-9d01db76dbbd"
      },
      "cell_type": "code",
      "source": [
        "type(df['SALARY'])\n"
      ],
      "execution_count": 172,
      "outputs": [
        {
          "output_type": "execute_result",
          "data": {
            "text/plain": [
              "pyspark.sql.column.Column"
            ]
          },
          "metadata": {
            "tags": []
          },
          "execution_count": 172
        }
      ]
    },
    {
      "metadata": {
        "id": "F5RjmcRSGBPH",
        "colab_type": "code",
        "colab": {}
      },
      "cell_type": "code",
      "source": [
        ""
      ],
      "execution_count": 0,
      "outputs": []
    },
    {
      "metadata": {
        "id": "KE08O5df5fJa",
        "colab_type": "code",
        "colab": {
          "base_uri": "https://localhost:8080/",
          "height": 34
        },
        "outputId": "a9a73c10-49e4-4e21-ad85-984c0c83675e"
      },
      "cell_type": "code",
      "source": [
        "df.head()"
      ],
      "execution_count": 173,
      "outputs": [
        {
          "output_type": "execute_result",
          "data": {
            "text/plain": [
              "Row(NUMFUNC=102929, NUMVINC=1, SALARY=1000.0)"
            ]
          },
          "metadata": {
            "tags": []
          },
          "execution_count": 173
        }
      ]
    },
    {
      "metadata": {
        "id": "RDI3xAnI511G",
        "colab_type": "code",
        "colab": {
          "base_uri": "https://localhost:8080/",
          "height": 156
        },
        "outputId": "bb5af924-28ab-425f-c7a5-60b0a667e8ae"
      },
      "cell_type": "code",
      "source": [
        "df.show(n=2)"
      ],
      "execution_count": 174,
      "outputs": [
        {
          "output_type": "stream",
          "text": [
            "+-------+-------+------+\n",
            "|NUMFUNC|NUMVINC|SALARY|\n",
            "+-------+-------+------+\n",
            "| 102929|      1|1000.0|\n",
            "| 109999|      3|3000.0|\n",
            "+-------+-------+------+\n",
            "only showing top 2 rows\n",
            "\n"
          ],
          "name": "stdout"
        }
      ]
    },
    {
      "metadata": {
        "id": "LkSNmSX66LkQ",
        "colab_type": "code",
        "colab": {
          "base_uri": "https://localhost:8080/",
          "height": 173
        },
        "outputId": "f9a76c23-2e4b-4adb-ea23-5c57b146156b"
      },
      "cell_type": "code",
      "source": [
        "df.show()"
      ],
      "execution_count": 175,
      "outputs": [
        {
          "output_type": "stream",
          "text": [
            "+-------+-------+------+\n",
            "|NUMFUNC|NUMVINC|SALARY|\n",
            "+-------+-------+------+\n",
            "| 102929|      1|1000.0|\n",
            "| 109999|      3|3000.0|\n",
            "| 102929|      2|   NaN|\n",
            "| 119836|      1| 500.0|\n",
            "+-------+-------+------+\n",
            "\n"
          ],
          "name": "stdout"
        }
      ]
    },
    {
      "metadata": {
        "id": "_d7hwP4cAUxR",
        "colab_type": "code",
        "colab": {
          "base_uri": "https://localhost:8080/",
          "height": 34
        },
        "outputId": "963af5f9-ef36-4cb1-d698-74f3210dce9e"
      },
      "cell_type": "code",
      "source": [
        "df"
      ],
      "execution_count": 176,
      "outputs": [
        {
          "output_type": "execute_result",
          "data": {
            "text/plain": [
              "DataFrame[NUMFUNC: bigint, NUMVINC: bigint, SALARY: double]"
            ]
          },
          "metadata": {
            "tags": []
          },
          "execution_count": 176
        }
      ]
    },
    {
      "metadata": {
        "id": "CwJs2Rb09kfO",
        "colab_type": "code",
        "colab": {
          "base_uri": "https://localhost:8080/",
          "height": 34
        },
        "outputId": "fadd13df-1ffd-4e50-fd32-883bc8fe1940"
      },
      "cell_type": "code",
      "source": [
        "df.describe"
      ],
      "execution_count": 177,
      "outputs": [
        {
          "output_type": "execute_result",
          "data": {
            "text/plain": [
              "<bound method DataFrame.describe of DataFrame[NUMFUNC: bigint, NUMVINC: bigint, SALARY: double]>"
            ]
          },
          "metadata": {
            "tags": []
          },
          "execution_count": 177
        }
      ]
    },
    {
      "metadata": {
        "id": "KCqmeZGmAYPt",
        "colab_type": "code",
        "colab": {
          "base_uri": "https://localhost:8080/",
          "height": 104
        },
        "outputId": "15015cd7-5288-44d8-93a2-624342a7f875"
      },
      "cell_type": "code",
      "source": [
        "df.printSchema()"
      ],
      "execution_count": 178,
      "outputs": [
        {
          "output_type": "stream",
          "text": [
            "root\n",
            " |-- NUMFUNC: long (nullable = true)\n",
            " |-- NUMVINC: long (nullable = true)\n",
            " |-- SALARY: double (nullable = true)\n",
            "\n"
          ],
          "name": "stdout"
        }
      ]
    },
    {
      "metadata": {
        "id": "Sbrc1Ncn6QPv",
        "colab_type": "code",
        "colab": {
          "base_uri": "https://localhost:8080/",
          "height": 173
        },
        "outputId": "cf71769b-ef3c-4b65-c5f1-aaf97c77a066"
      },
      "cell_type": "code",
      "source": [
        "df.select('SALARY').show()\n"
      ],
      "execution_count": 179,
      "outputs": [
        {
          "output_type": "stream",
          "text": [
            "+------+\n",
            "|SALARY|\n",
            "+------+\n",
            "|1000.0|\n",
            "|3000.0|\n",
            "|   NaN|\n",
            "| 500.0|\n",
            "+------+\n",
            "\n"
          ],
          "name": "stdout"
        }
      ]
    },
    {
      "metadata": {
        "id": "7L7TNugtEmah",
        "colab_type": "code",
        "colab": {
          "base_uri": "https://localhost:8080/",
          "height": 191
        },
        "outputId": "ca491862-a1d3-4a85-a5c1-ce2adeebc682"
      },
      "cell_type": "code",
      "source": [
        "df.describe('SALARY').show()"
      ],
      "execution_count": 180,
      "outputs": [
        {
          "output_type": "stream",
          "text": [
            "+-------+------+\n",
            "|summary|SALARY|\n",
            "+-------+------+\n",
            "|  count|     4|\n",
            "|   mean|   NaN|\n",
            "| stddev|   NaN|\n",
            "|    min| 500.0|\n",
            "|    max|   NaN|\n",
            "+-------+------+\n",
            "\n"
          ],
          "name": "stdout"
        }
      ]
    },
    {
      "metadata": {
        "id": "6vtzvMpBGDN4",
        "colab_type": "code",
        "colab": {
          "base_uri": "https://localhost:8080/",
          "height": 173
        },
        "outputId": "3fb678aa-bec7-47a8-d185-9aa55812633e"
      },
      "cell_type": "code",
      "source": [
        "df.select(['NUMFUNC', 'SALARY']).show()"
      ],
      "execution_count": 181,
      "outputs": [
        {
          "output_type": "stream",
          "text": [
            "+-------+------+\n",
            "|NUMFUNC|SALARY|\n",
            "+-------+------+\n",
            "| 102929|1000.0|\n",
            "| 109999|3000.0|\n",
            "| 102929|   NaN|\n",
            "| 119836| 500.0|\n",
            "+-------+------+\n",
            "\n"
          ],
          "name": "stdout"
        }
      ]
    },
    {
      "metadata": {
        "id": "rWlraJWRGK5Y",
        "colab_type": "code",
        "colab": {
          "base_uri": "https://localhost:8080/",
          "height": 121
        },
        "outputId": "779b6ce0-d341-4214-ced2-3e4400eaf0d8"
      },
      "cell_type": "code",
      "source": [
        "df.filter(df.SALARY == 3000).show()"
      ],
      "execution_count": 182,
      "outputs": [
        {
          "output_type": "stream",
          "text": [
            "+-------+-------+------+\n",
            "|NUMFUNC|NUMVINC|SALARY|\n",
            "+-------+-------+------+\n",
            "| 109999|      3|3000.0|\n",
            "+-------+-------+------+\n",
            "\n"
          ],
          "name": "stdout"
        }
      ]
    },
    {
      "metadata": {
        "id": "Z3xlLzRBGTHh",
        "colab_type": "code",
        "colab": {
          "base_uri": "https://localhost:8080/",
          "height": 173
        },
        "outputId": "019b0123-4b13-41c8-af80-2e93022b3830"
      },
      "cell_type": "code",
      "source": [
        "# Register the DataFrame as a SQL temporary view\n",
        "df.createOrReplaceTempView(\"payroll\")\n",
        "sql_results = spark.sql(\"SELECT * FROM payroll\")\n",
        "sql_results.show()\n"
      ],
      "execution_count": 183,
      "outputs": [
        {
          "output_type": "stream",
          "text": [
            "+-------+-------+------+\n",
            "|NUMFUNC|NUMVINC|SALARY|\n",
            "+-------+-------+------+\n",
            "| 102929|      1|1000.0|\n",
            "| 109999|      3|3000.0|\n",
            "| 102929|      2|   NaN|\n",
            "| 119836|      1| 500.0|\n",
            "+-------+-------+------+\n",
            "\n"
          ],
          "name": "stdout"
        }
      ]
    },
    {
      "metadata": {
        "id": "Y30eqcfWGccI",
        "colab_type": "text"
      },
      "cell_type": "markdown",
      "source": [
        "# Rename Columns"
      ]
    },
    {
      "metadata": {
        "id": "z8U-5Wc_GhXV",
        "colab_type": "code",
        "colab": {
          "base_uri": "https://localhost:8080/",
          "height": 173
        },
        "outputId": "4cb81174-1358-4898-ccb0-6e1976f81188"
      },
      "cell_type": "code",
      "source": [
        "#Rename column\n",
        "df.withColumnRenamed('SALARY', 'salary').show()"
      ],
      "execution_count": 184,
      "outputs": [
        {
          "output_type": "stream",
          "text": [
            "+-------+-------+------+\n",
            "|NUMFUNC|NUMVINC|salary|\n",
            "+-------+-------+------+\n",
            "| 102929|      1|1000.0|\n",
            "| 109999|      3|3000.0|\n",
            "| 102929|      2|   NaN|\n",
            "| 119836|      1| 500.0|\n",
            "+-------+-------+------+\n",
            "\n"
          ],
          "name": "stdout"
        }
      ]
    },
    {
      "metadata": {
        "id": "-r-JhX9pGzDe",
        "colab_type": "text"
      },
      "cell_type": "markdown",
      "source": [
        "# Operations"
      ]
    },
    {
      "metadata": {
        "id": "sIU69HUKG3HS",
        "colab_type": "code",
        "colab": {
          "base_uri": "https://localhost:8080/",
          "height": 173
        },
        "outputId": "e31330c3-78fe-41d7-f208-09cc3e946757"
      },
      "cell_type": "code",
      "source": [
        "# Operation/Function and Column Alias\n",
        "df.withColumn('bonus',df['salary']*1.2).show()"
      ],
      "execution_count": 185,
      "outputs": [
        {
          "output_type": "stream",
          "text": [
            "+-------+-------+------+------+\n",
            "|NUMFUNC|NUMVINC|SALARY| bonus|\n",
            "+-------+-------+------+------+\n",
            "| 102929|      1|1000.0|1200.0|\n",
            "| 109999|      3|3000.0|3600.0|\n",
            "| 102929|      2|   NaN|   NaN|\n",
            "| 119836|      1| 500.0| 600.0|\n",
            "+-------+-------+------+------+\n",
            "\n"
          ],
          "name": "stdout"
        }
      ]
    },
    {
      "metadata": {
        "id": "BKLRfSJmHcW2",
        "colab_type": "code",
        "colab": {
          "base_uri": "https://localhost:8080/",
          "height": 173
        },
        "outputId": "361a27e0-da1e-4bb8-9e81-a409de6315d3"
      },
      "cell_type": "code",
      "source": [
        "df.show()"
      ],
      "execution_count": 186,
      "outputs": [
        {
          "output_type": "stream",
          "text": [
            "+-------+-------+------+\n",
            "|NUMFUNC|NUMVINC|SALARY|\n",
            "+-------+-------+------+\n",
            "| 102929|      1|1000.0|\n",
            "| 109999|      3|3000.0|\n",
            "| 102929|      2|   NaN|\n",
            "| 119836|      1| 500.0|\n",
            "+-------+-------+------+\n",
            "\n"
          ],
          "name": "stdout"
        }
      ]
    },
    {
      "metadata": {
        "id": "QMHkTd3KHiTp",
        "colab_type": "code",
        "colab": {
          "base_uri": "https://localhost:8080/",
          "height": 173
        },
        "outputId": "f44e31fe-43bb-478a-efde-dc2572104da4"
      },
      "cell_type": "code",
      "source": [
        "df2 = df.withColumn('bonus', df['salary']*1.2).show()"
      ],
      "execution_count": 187,
      "outputs": [
        {
          "output_type": "stream",
          "text": [
            "+-------+-------+------+------+\n",
            "|NUMFUNC|NUMVINC|SALARY| bonus|\n",
            "+-------+-------+------+------+\n",
            "| 102929|      1|1000.0|1200.0|\n",
            "| 109999|      3|3000.0|3600.0|\n",
            "| 102929|      2|   NaN|   NaN|\n",
            "| 119836|      1| 500.0| 600.0|\n",
            "+-------+-------+------+------+\n",
            "\n"
          ],
          "name": "stdout"
        }
      ]
    },
    {
      "metadata": {
        "id": "6vNZ8nf-IAkJ",
        "colab_type": "code",
        "colab": {
          "base_uri": "https://localhost:8080/",
          "height": 34
        },
        "outputId": "69629311-3cf9-49b7-973e-e4399962603b"
      },
      "cell_type": "code",
      "source": [
        "type(df)"
      ],
      "execution_count": 188,
      "outputs": [
        {
          "output_type": "execute_result",
          "data": {
            "text/plain": [
              "pyspark.sql.dataframe.DataFrame"
            ]
          },
          "metadata": {
            "tags": []
          },
          "execution_count": 188
        }
      ]
    }
  ]
}